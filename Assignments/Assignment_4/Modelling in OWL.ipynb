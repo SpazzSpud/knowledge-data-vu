{
 "cells": [
  {
   "cell_type": "markdown",
   "metadata": {},
   "source": [
    "# Knowledge and Data: Practical Assignment 4 \n",
    "## Modelling in OWL "
   ]
  },
  {
   "cell_type": "markdown",
   "metadata": {},
   "source": [
    "YOUR NAME: Thomas Norton\n",
    "\n",
    "YOUR VUNetID: tnn281\n",
    "\n",
    "*(If you do not provide your NAME and VUNetID we will not accept your submission.)*"
   ]
  },
  {
   "cell_type": "markdown",
   "metadata": {},
   "source": [
    "For this assignment you will be engineering and reasoning over your very own OWL ontology.\n",
    "\n",
    "You are free to choose the domain (subject) of the ontology you are going to build (e.g. on nutritional value, recipes, supermarkets, food safety, health, restaurants, planes, trains and automobiles, developing countries, modern slavery, political parties, refugees, you name it...). Just be creative and choose a domain we have not seen in class yet. \n",
    "\n",
    "We expect extensive answers for this assignment: give a full account of what you did, such that a peer would be able to reproduce your ontology. This means that you must explicitly state the new axioms (in some Human readable syntax, such as Manchester Syntax, so no ttl) and that we expect you to motivate your choices (usually 1-3 lines).\n",
    "\n",
    "**IMPORTANT: You will have to hand in your ontology (as ttl) together with the notebook**"
   ]
  },
  {
   "cell_type": "markdown",
   "metadata": {},
   "source": [
    "### Learning objectives"
   ]
  },
  {
   "cell_type": "markdown",
   "metadata": {},
   "source": [
    "At the end of this exercise you should be able to build and ontology and to reason over it: \n",
    "1. You will be able to engineer an OWL ontology\n",
    "2. You will be able to conceptualize a (small) domain\n",
    "3. You will be able use conditions and property characteristics\n",
    "4. You will be able to use a reasoner to infer implicit knowledge\n",
    "5. You will be able to work in Protégé"
   ]
  },
  {
   "cell_type": "markdown",
   "metadata": {},
   "source": [
    "### Preliminaries\n",
    "\n",
    "There are several tools which can be used to create and edit RDF and OWL files (in addition to your favourite text-based editor). For this assignment we urge you to use the open-source tool [Protégé](https://protege.stanford.edu), which is a stand-alone editor that is very much tailored towards OWL ontology editing.\n",
    "\n",
    "To install Protégé on your system, please take a look at the [installation instructions](https://protegeproject.github.io/protege/installation/).\n",
    " \n",
    "Protégé is a complex tool with many options, only few of which we will need for this assignment. There are various resources available to get you started:\n",
    "\n",
    "- Watch a short [Protégé Screencast Tutorial](https://vimeo.com/183829740) (created by Rinke Hoekstra)\n",
    "- Check out the [Practical Guide To Building OWL Ontologies Using Protégé 5](https://www.researchgate.net/publication/351037551_A_Practical_Guide_to_Building_OWL_Ontologies_Using_Protege_55_and_Plugins) that uses the [Pizza ontology](https://protege.stanford.edu/ontologies/pizza/pizza.owl) to describe how to create ontologies using Protégé.\n",
    "- Check the [Assignment 4 document](https://docs.google.com/document/d/1Dw2winjfr2TJq3r1q6ZRpud9Qn--tq4ioWDqiBdrrzI) containing Tips & Recommendations on how to create ontologies."
   ]
  },
  {
   "cell_type": "markdown",
   "metadata": {},
   "source": [
    "### Task 1 (1 Point) : Creating an empty ontology\n",
    "\n",
    "Create a new empty ontology in Protégé.\n",
    "\n",
    "Be sure to:\n",
    "- Choose your own unique ontology IRI, its namespace, and a prefix\n",
    "- Add metadata in the form of *rdfs:label*, *rdfs:comment*, and *rdfs:isDefinedBy* annotations.  \n",
    "  Use *rdfs:comment* to describe the domain and target audience of your ontology.\n",
    "\n",
    "Write down the IRI, its prefix, and the metadata that you have added in the textfield below:"
   ]
  },
  {
   "cell_type": "markdown",
   "metadata": {},
   "source": [
    "IRI: http://www.example.com/kand2022/football\n",
    "\n",
    "Namespace: http://www.example.com/kand2022/football/  \n",
    "\n",
    "Prefix: kndfb\n",
    "\n",
    "Metadata:\n",
    "..."
   ]
  },
  {
   "cell_type": "markdown",
   "metadata": {},
   "source": []
  },
  {
   "cell_type": "markdown",
   "metadata": {},
   "source": [
    "### Task 2a (1 Point) : Populating your ontology\n",
    "\n",
    "Populate your ontology such that it contains\n",
    "- six classes\n",
    "- three data properties\n",
    "- four object properties\n",
    "\n",
    "For **each** class, create **two** example instances:\n",
    "- assert one instance as a member of this class (i.e. using *rdf:type*).\n",
    "- leave the second instance without any type.\n",
    "\n",
    "Your ontology should now have 12 instances: six instances with a certain *rdf:type*, and six instances without any *rdf:type*.\n",
    "\n",
    "List and describe the 6 classes you created in the textfield below, together with their instances. Don't forget to motivate your choices."
   ]
  },
  {
   "cell_type": "markdown",
   "metadata": {},
   "source": [
    "Class Name: kndfb:Stadium   \n",
    "Description: Stadium that a football team or player plays in  \n",
    "Instances:  \n",
    "- JohanCruijffArena\n",
    "- StamfordBridge\n",
    "\n",
    "Class Name: kndfb:Country   \n",
    "Description: Country that a football team or player plays in  \n",
    "Instances:  \n",
    "- England\n",
    "- Netherlands\n",
    "\n",
    "Class Name: kndfb:League    \n",
    "Description: Football League that a team or player plays in\n",
    "Instances:  \n",
    "- PremierLeague\n",
    "- ChampionsLeague\n",
    "\n",
    "Class Name: kndfb:Person    \n",
    "Description: A human being\n",
    "SubClasses:  \n",
    "- kndfb:Manager\n",
    "- kndfb:Player\n",
    "\n",
    "Class Name: kndfb:Manager   \n",
    "Description: A person who manages a football team\n",
    "Instances:  \n",
    "- AlfredSchreuder\n",
    "- GrahamPotter\n",
    "\n",
    "Class Name: kndfb:Player    \n",
    "Description: A person who plays in a football team\n",
    "Instances:  \n",
    "- StevenBergwijn\n",
    "- RaheemSterling\n",
    "\n",
    "Class Name: kndfb:Team  \n",
    "Description: An organisation which plays football in a league\n",
    "Instances:\n",
    "- Chelsea\n",
    "- Ajax\n",
    "- Arsenal\n"
   ]
  },
  {
   "cell_type": "markdown",
   "metadata": {},
   "source": [
    "### Task 2b (1 Point) : Asserting properties\n",
    " \n",
    "For *each* instance:\n",
    "- assert at least one data property (e.g. ex:instanceA *ex:hasFullName* \"Some Full Name\"). \n",
    "- assert at least one object property, relating instances to each other (e.g.  ex:instanceA *ex:attendsCourse* ex:instanceB) \n",
    "\n",
    "List and describe 3 statements from your ontology, containing 3 different data property assertions:"
   ]
  },
  {
   "cell_type": "markdown",
   "metadata": {},
   "source": [
    "kndfb:GrahamPotter kndfb:hasAge \"47\"^^xsd:int\n",
    "\n",
    "kndfb:RaheemSterling kndfb:hasFullName \"Raheem Shaquille Sterling\"@en\n",
    "\n",
    "kndfb:Ajax kndfb:foundedYear \"1900\"^^xsd:int"
   ]
  },
  {
   "cell_type": "markdown",
   "metadata": {},
   "source": [
    "List and describe 4 statements from your ontology, containing 4 different object property assertions:"
   ]
  },
  {
   "cell_type": "markdown",
   "metadata": {},
   "source": [
    "kndfb:RaheemSterling kndfb:playsFor kndfb:Chelsea   \n",
    "\n",
    "kndfb:Chelsea kndfb:competesIn kndfb:PremierLeague\n",
    "\n",
    "kndfb:AlfredSchreuder kndfb:manages kndfb:Ajax\n",
    "\n",
    "kndfb:Ajax kndfb:locatedIn kndfb:Netherlands\n",
    "\n",
    "kndfb:JohanCruiffArena kndfb:stadiumOf kndfb:Ajax\n",
    "\n",
    "kndfb:Chelsea kndfb:rivalsOf kndfb:Arsenal"
   ]
  },
  {
   "cell_type": "markdown",
   "metadata": {},
   "source": [
    "---\n",
    "### The reasoner\n",
    "\n",
    "The questions following this point make use of Protégé reasoning capabilities, which are available via plugins but which are disabled by default. Install (if necessary) and start the *Pellet* reasoner before you continue with the next question.\n",
    "\n",
    "Refer to page 15 of the [Protégé guide](https://www.researchgate.net/publication/351037551_A_Practical_Guide_to_Building_OWL_Ontologies_Using_Protege_55_and_Plugins) for instructions on how to install and run the reasoner. \n",
    "\n",
    "---"
   ]
  },
  {
   "cell_type": "markdown",
   "metadata": {},
   "source": [
    "### Task 3 (0 Points): Reasoning on a basic ontology\n",
    "\n",
    "All assertions that were addded up til now were explicit. Yet, it is certainly possible that your ontology also contains one or more *implicit* assertions, that have emerged from the interactions between the added explicit assertions. \n",
    "\n",
    "Run the reasoner on your yet-basic ontology and write down the inferences occurred (if any) below:"
   ]
  },
  {
   "cell_type": "markdown",
   "metadata": {},
   "source": [
    "There were no inferences that occured"
   ]
  },
  {
   "cell_type": "markdown",
   "metadata": {},
   "source": [
    "### Task 4a (1 Point): Necessary and sufficient conditions \n",
    "\n",
    "Select two classes from your ontology.  \n",
    "For **both** classes:\n",
    "- add necessary and sufficient conditions\n",
    "  (e.g. engineers are people who hold an engineering degree, and any person holding an engineering degree is an engineer)\n",
    "- infer class membership of *at least* one instance using each condition \n",
    "  \n",
    "List and describe the four conditions that you have added (i.e. axioms) in the textfield below. Do not forget to motivate your choices."
   ]
  },
  {
   "cell_type": "markdown",
   "metadata": {},
   "source": [
    "kndfb:Person and kndfb:Player equivalent to kndfb:playsFor some kndfb:Team  \n",
    "A player is an instance which is a person and also plays for a football team\n",
    "\n",
    "kndfb:Manager equivalent to kndfb:manages some kndfb:Team\n",
    "A manager is an instance which manages a football team\n",
    "\n",
    "kndfb:Team equivalent to kndfb:competesIn some kndfb:League\n",
    "A football team is an instance which competes in some league\n",
    "\n",
    "kndfb:Stadium equivalent to kndfb:stadiumOf some kndfb:Team\n",
    "A stadium is an instance which is the stadium of some team"
   ]
  },
  {
   "cell_type": "markdown",
   "metadata": {},
   "source": [
    "### Task 4b (1 Point): Reasoning over conditions\n",
    "\n",
    "Run the reasoner once again (after having added the two conditions).\n",
    "\n",
    "Write down the different steps of the reasoning process (ie, what happens when you run the reasoner). Also write down and explain the resulting inferences below."
   ]
  },
  {
   "cell_type": "markdown",
   "metadata": {},
   "source": [
    "When the reasoner is run, the instances that were not defined with an rdf:type but can be classified with the new rules are added to correct classes\n",
    "- we inferred that Raheem Sterling is a player\n",
    "- we inferred that Alfred Schreuder is a manager\n",
    "- we inferred that Chelsea is a team\n",
    "- we inferred that Johan Cruijff Arena is a stadium\n",
    "\n",
    "Since there was no issues, the ontology is consistent."
   ]
  },
  {
   "cell_type": "markdown",
   "metadata": {},
   "source": [
    "### Task 5a (1 Point): Property characteristics\n",
    "\n",
    "Add **four** different property characteristics.\n",
    "\n",
    "Examples are\n",
    "- transitivity\n",
    "- symmetricity\n",
    "- functionality\n",
    "- (ir)reflexivity\n",
    "- property chain\n",
    "- disjoint properties\n",
    "- etc\n",
    "\n",
    "All four different characteristics can be asserted on one property (or on four different properties).\n",
    "\n",
    "List and describe the four property characteristics you defined (i.e. axioms) in the textfield below. Do not forget to motivate your choices."
   ]
  },
  {
   "cell_type": "markdown",
   "metadata": {},
   "source": [
    "kndfb:rivalsOf is a symmetric property, as teamA has rival teamB means that teamB has rival teamA\n",
    "\n",
    "kndfb:playsFor is a functional property, as a player can only play for one team at a time (national teams not included).\n",
    "\n",
    "kndfb:teamMateOf is irreflexive since a player can't be a teammate of themselves. It is also symmetric.\n",
    "\n",
    "kndfb:locatedIn is transitive, as a stadium located in London which is located in England can be said to be located in London"
   ]
  },
  {
   "cell_type": "markdown",
   "metadata": {},
   "source": [
    "### Task 5b (1 Point): Reasoning over properties\n",
    "\n",
    "Run the reasoner once again (after having added the four properties).\n",
    "\n",
    "Write down the steps of the reasoning process (ie, what happens when you run the reasoner). Also write down and explain the resulting inferences below."
   ]
  },
  {
   "cell_type": "markdown",
   "metadata": {},
   "source": [
    "The reasoner ran into no errors, so the instances are added to the inferred classes. These are marked with a different symbol and when clicked show the rule that caused it. If the reasoner does run into errors, it will crash and output the issue into the program logs. \n",
    "\n",
    "- It inferred that Stamford Bridge is in England (locatedIn London, which is locatedIn England)\n",
    "- It inferred that Arsenal are rivalsOf Chelsea (since Chelsea are rivalsOfArsenal)\n",
    "- It inferred that Mason Mount is a teamMateOf Raheem Sterling"
   ]
  },
  {
   "cell_type": "markdown",
   "metadata": {},
   "source": [
    "### Task 6 (1-2 Point): Saving your ontology\n",
    "\n",
    "Go over your ontology to ensure that it is consistent and that it meets all requirements as asked through the various questions. If both criteria are met you will obtain an additional point (making a total of 2 points for this question). Note that there are several [online validators](http://mowl-power.cs.man.ac.uk:8080/validator/) that can help you check your ontology for consistency.\n",
    "\n",
    "Next, export/save your ontology to a file using Turtle as serialization format. Use *save as* to ensure that later modifications won't end up in this file. \n",
    "\n",
    "**Submit this file together with your notebook**"
   ]
  },
  {
   "cell_type": "markdown",
   "metadata": {},
   "source": [
    "### Task 7 (1 Point): An inconsist ontology\n",
    "\n",
    "Add one or more axioms to your ontology in such a way that it becomes inconsistent. Note that the added axioms themselves *must* be consistent; adding a single inconsistent axiom is not allowed.\n",
    "\n",
    "**IMPORTANT: do not submit this version**\n",
    "\n",
    "List and describe the axioms that you added. Motivate your choices and explain why the ontology became inconsistent."
   ]
  },
  {
   "cell_type": "markdown",
   "metadata": {},
   "source": [
    "I decided to add that Mason Mount playsFor England. This is inconsistent since playsFor is a functional property in this ontology, and also England is not a team in this ontology. "
   ]
  },
  {
   "cell_type": "markdown",
   "metadata": {},
   "source": [
    "---\n",
    "\n",
    "## Submitting your answers\n",
    "\n",
    "To submit your answers for this assignment, create a zip-file containing both this notebook and your *consistent* ontology (saved during task 6). Name this zip-file **assignment_4_VUnetID.zip** (where VUnetID is of course to be replaced by your personal VUnetID, eg **rss220**), and submit it via Canvas."
   ]
  }
 ],
 "metadata": {
  "kernelspec": {
   "display_name": "Python 3.10.2 64-bit",
   "language": "python",
   "name": "python3"
  },
  "language_info": {
   "codemirror_mode": {
    "name": "ipython",
    "version": 3
   },
   "file_extension": ".py",
   "mimetype": "text/x-python",
   "name": "python",
   "nbconvert_exporter": "python",
   "pygments_lexer": "ipython3",
   "version": "3.10.2"
  },
  "vscode": {
   "interpreter": {
    "hash": "369f2c481f4da34e4445cda3fffd2e751bd1c4d706f27375911949ba6bb62e1c"
   }
  }
 },
 "nbformat": 4,
 "nbformat_minor": 4
}
