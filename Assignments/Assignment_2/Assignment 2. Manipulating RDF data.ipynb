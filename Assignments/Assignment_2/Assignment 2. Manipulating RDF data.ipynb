{
 "cells": [
  {
   "cell_type": "markdown",
   "metadata": {},
   "source": [
    "# Knowledge and Data: Practical Assignment 2\n",
    "## Manipulate local and external RDF Knowledge Graphs "
   ]
  },
  {
   "cell_type": "markdown",
   "metadata": {},
   "source": [
    "YOUR NAME: Thomas Norton\n",
    "\n",
    "YOUR VUNetID: tnn281\n",
    "\n",
    "*(If you do not provide your name and VUNetID we will not accept your submission).*"
   ]
  },
  {
   "cell_type": "markdown",
   "metadata": {},
   "source": [
    "### Learning objectives"
   ]
  },
  {
   "cell_type": "markdown",
   "metadata": {},
   "source": [
    "At the end of this exercise you should be able to perform some simple manipulations of RDF Data using the rdflib library. You should be able to: \n",
    "\n",
    "1. Add and retrieve information from a local RDF database\n",
    "2. Represent RDF data in other formats, such as the .dot format for graph visualisation\n",
    "3. Retrieve information from an RDF database created from Web Data\n",
    "4. Query information from the Web with SPARQL"
   ]
  },
  {
   "cell_type": "markdown",
   "metadata": {},
   "source": [
    "### Practicalities"
   ]
  },
  {
   "cell_type": "markdown",
   "metadata": {},
   "source": [
    "Follow this Notebook step-by-step. \n",
    "\n",
    "Of course, you can do the exercises in any Programming Editor of your liking. \n",
    "But you do not have to. Feel free to simply write code in the Notebook. When \n",
    "everything is filled in and works, save the Notebook and submit it \n",
    "as a Jupyter Notebook, i.e. with an .ipynb extension. Please use as name of the \n",
    "Notebook your studentID+Assignment2.ipynb.  \n",
    "\n",
    "Other than in courses dedicated to programming we will not evaluate the style\n",
    "of the programs. But we will test your programs on other data than we provide, \n",
    "and your program should give the correct answers to those test-data as well. "
   ]
  },
  {
   "cell_type": "markdown",
   "metadata": {},
   "source": [
    "# A. Tasks related to local RDF Knowledge Graphs"
   ]
  },
  {
   "cell_type": "markdown",
   "metadata": {},
   "source": [
    "This first cell will open a file 'example-from-slide.ttl' using the rdflib library. The first Practical Assignment should have taught you that manipulating symbols as strings is a major pain. \n",
    "\n",
    "Programming libraries, such as **rdflib**, help you with this mess once and for all, by parsing the files, creating appropriate datastructures (Graph()) and providing useful functions (such as serialize(), save() and much more). \n",
    "Check the website of rdflib http://rdflib.readthedocs.io/: this library does most of the hard work for you."
   ]
  },
  {
   "cell_type": "code",
   "execution_count": 1,
   "metadata": {},
   "outputs": [
    {
     "name": "stdout",
     "output_type": "stream",
     "text": [
      "Collecting rdflibNote: you may need to restart the kernel to use updated packages.\n",
      "  Downloading rdflib-6.2.0-py3-none-any.whl (500 kB)\n",
      "Collecting isodate\n",
      "  Downloading isodate-0.6.1-py2.py3-none-any.whl (41 kB)\n",
      "Requirement already satisfied: pyparsing in c:\\python310\\lib\\site-packages (from rdflib) (3.0.9)\n",
      "Requirement already satisfied: setuptools in c:\\python310\\lib\\site-packages (from rdflib) (58.1.0)\n",
      "Requirement already satisfied: six in c:\\python310\\lib\\site-packages (from isodate->rdflib) (1.16.0)\n",
      "Installing collected packages: isodate, rdflib\n",
      "\n"
     ]
    },
    {
     "name": "stderr",
     "output_type": "stream",
     "text": [
      "WARNING: Ignoring invalid distribution -ip (c:\\python310\\lib\\site-packages)\n",
      "WARNING: Ignoring invalid distribution -ip (c:\\python310\\lib\\site-packages)\n",
      "WARNING: Ignoring invalid distribution -ip (c:\\python310\\lib\\site-packages)\n",
      "  WARNING: Failed to write executable - trying to use .deleteme logic\n",
      "ERROR: Could not install packages due to an OSError: [WinError 2] The system cannot find the file specified: 'c:\\\\Python310\\\\Scripts\\\\csv2rdf.exe' -> 'c:\\\\Python310\\\\Scripts\\\\csv2rdf.exe.deleteme'\n",
      "\n",
      "WARNING: Ignoring invalid distribution -ip (c:\\python310\\lib\\site-packages)\n",
      "WARNING: Ignoring invalid distribution -ip (c:\\python310\\lib\\site-packages)\n",
      "WARNING: Ignoring invalid distribution -ip (c:\\python310\\lib\\site-packages)\n",
      "WARNING: You are using pip version 21.2.4; however, version 22.2.2 is available.\n",
      "You should consider upgrading via the 'c:\\Python310\\python.exe -m pip install --upgrade pip' command.\n"
     ]
    }
   ],
   "source": [
    "# Before starting with the tasks of this assignment, do not forget to install **rdflib** so we can start using it. \n",
    "%pip install rdflib"
   ]
  },
  {
   "cell_type": "code",
   "execution_count": 2,
   "metadata": {},
   "outputs": [],
   "source": [
    "from rdflib import Graph, RDF, Namespace, Literal, URIRef\n",
    "\n",
    "g = Graph()\n",
    "\n",
    "EX = Namespace('http://example.com/kad0/')\n",
    "g.bind('ex',EX)\n",
    "\n",
    "def serialize_graph():\n",
    "    # g.serialize() returns a string\n",
    "    print(g.serialize(format='turtle'))\n",
    "\n",
    "def save_graph(filename):\n",
    "    with open(filename, 'w') as f:\n",
    "        g.serialize(f, format='nt')\n",
    "        \n",
    "def load_graph(filename):\n",
    "    with open(filename, 'r') as f:\n",
    "        g.parse(f, format='turtle')   "
   ]
  },
  {
   "cell_type": "markdown",
   "metadata": {},
   "source": [
    "The file 'example-from-slides.ttl' formalises the knowledge base from the slides from Module 1, and a bit more. \n",
    "\n",
    "Here is how it looks when you load it into your program and serialise it with rdflib in turtle. "
   ]
  },
  {
   "cell_type": "code",
   "execution_count": 3,
   "metadata": {},
   "outputs": [
    {
     "name": "stdout",
     "output_type": "stream",
     "text": [
      "@prefix ex1: <http://example.com/kad/> .\n",
      "@prefix rdfs: <http://www.w3.org/2000/01/rdf-schema#> .\n",
      "\n",
      "ex1:Germany a ex1:EuropeanCountry .\n",
      "\n",
      "ex1:Netherlands a ex1:Country ;\n",
      "    ex1:hasCapital ex1:Amsterdam ;\n",
      "    ex1:hasName \"The Netherlands\" ;\n",
      "    ex1:neighbours ex1:Belgium .\n",
      "\n",
      "ex1:hasCapital rdfs:range ex1:Capital ;\n",
      "    rdfs:subPropertyOf ex1:containsCity .\n",
      "\n",
      "ex1:Amsterdam a ex1:Capital .\n",
      "\n",
      "ex1:Belgium a ex1:Country .\n",
      "\n",
      "ex1:EuropeanCountry rdfs:subClassOf ex1:Country .\n",
      "\n",
      "ex1:containsCity rdfs:domain ex1:Country ;\n",
      "    rdfs:range ex1:City .\n",
      "\n",
      "ex1:Capital rdfs:subClassOf ex1:City .\n",
      "\n",
      "\n"
     ]
    }
   ],
   "source": [
    "load_graph('example-from-slides.ttl')\n",
    "serialize_graph()"
   ]
  },
  {
   "cell_type": "markdown",
   "metadata": {},
   "source": [
    "Now, we can manipulate the graph very easily, e.g. like in the following very simple function, which returns the predicate(s) that relate a subject to a literal object: "
   ]
  },
  {
   "cell_type": "code",
   "execution_count": 4,
   "metadata": {
    "scrolled": true
   },
   "outputs": [
    {
     "name": "stdout",
     "output_type": "stream",
     "text": [
      "http://example.com/kad/hasName\n"
     ]
    }
   ],
   "source": [
    "for s,p,o in g:\n",
    "    if type(o) is Literal:\n",
    "        print(p)"
   ]
  },
  {
   "cell_type": "markdown",
   "metadata": {},
   "source": [
    "### - Task 1: (1 Point) Add information to an RDF graph"
   ]
  },
  {
   "cell_type": "markdown",
   "metadata": {},
   "source": [
    "Add triples to the knowledge graph. Make sure that they have the right namespaces. \n",
    "\n",
    "Similarily to the triples already present in the file 'example-from-slides.ttl':\n",
    "- add at least three new countries with their name and capital \n",
    "- add at least one triple with the neighbour predicate\n",
    "\n",
    "Check: http://rdflib.readthedocs.io/en/stable/intro_to_creating_rdf.html\n",
    "\n",
    "Remember that ```a``` is Turtle shorthand for ```rdf:type```."
   ]
  },
  {
   "cell_type": "code",
   "execution_count": 5,
   "metadata": {},
   "outputs": [
    {
     "name": "stdout",
     "output_type": "stream",
     "text": [
      "@prefix ex1: <http://example.com/kad/> .\n",
      "@prefix rdf: <http://www.w3.org/1999/02/22-rdf-syntax-ns#> .\n",
      "@prefix rdfs: <http://www.w3.org/2000/01/rdf-schema#> .\n",
      "\n",
      "ex1:Czechia a ex1:Country ;\n",
      "    ex1:hasCapital ex1:Prague ;\n",
      "    rdf:hasName \"Czechia\" .\n",
      "\n",
      "ex1:Denmark a ex1:Country ;\n",
      "    ex1:hasCapital ex1:Copenhagen ;\n",
      "    ex1:hasName \"Denmark\" ;\n",
      "    ex1:neighbours ex1:Germany .\n",
      "\n",
      "ex1:Netherlands a ex1:Country ;\n",
      "    ex1:hasCapital ex1:Amsterdam ;\n",
      "    ex1:hasName \"The Netherlands\" ;\n",
      "    ex1:neighbours ex1:Belgium .\n",
      "\n",
      "ex1:Poland a ex1:Country ;\n",
      "    ex1:hasCapital ex1:Warsaw ;\n",
      "    ex1:neighbours ex1:Germany ;\n",
      "    rdf:hasName \"Poland\" .\n",
      "\n",
      "ex1:hasCapital rdfs:range ex1:Capital ;\n",
      "    rdfs:subPropertyOf ex1:containsCity .\n",
      "\n",
      "ex1:Amsterdam a ex1:Capital .\n",
      "\n",
      "ex1:Belgium a ex1:Country .\n",
      "\n",
      "ex1:EuropeanCountry rdfs:subClassOf ex1:Country .\n",
      "\n",
      "ex1:containsCity rdfs:domain ex1:Country ;\n",
      "    rdfs:range ex1:City .\n",
      "\n",
      "ex1:Capital rdfs:subClassOf ex1:City .\n",
      "\n",
      "ex1:Germany a ex1:EuropeanCountry .\n",
      "\n",
      "\n"
     ]
    }
   ],
   "source": [
    "ex = Namespace(\"http://example.com/kad/\")\n",
    "owl = Namespace(\"http://www.w3.org/2002/07/owl#\")\n",
    "rdf = Namespace(\"http://www.w3.org/1999/02/22-rdf-syntax-ns#\")\n",
    "rdfs = Namespace(\"http://www.w3.org/2000/01/rdf-schema#\")\n",
    "\n",
    "\n",
    "# add triples here to the graph 'g' (do not forget the namespaces).\n",
    "\n",
    "\n",
    "g.add((ex.Poland, rdf.type, ex.Country))\n",
    "g.add((ex.Poland, ex.hasCapital, ex.Warsaw))\n",
    "g.add((ex.Poland, rdf.hasName, Literal(\"Poland\")))\n",
    "g.add((ex.Czechia, rdf.type, ex.Country))\n",
    "g.add((ex.Czechia, rdf.hasName, Literal(\"Czechia\")))\n",
    "g.add((ex.Czechia, ex.hasCapital, ex.Prague))\n",
    "g.add((ex.Denmark, rdf.type, ex.Country))\n",
    "g.add((ex.Denmark, ex.hasCapital, ex.Copenhagen))\n",
    "g.add((ex.Denmark, ex.hasName, Literal(\"Denmark\")))\n",
    "g.add((ex.Poland, ex.neighbours, ex.Germany))\n",
    "g.add((ex.Denmark, ex.neighbours, ex.Germany))\n",
    "\n",
    "\n",
    "serialize_graph()"
   ]
  },
  {
   "cell_type": "markdown",
   "metadata": {},
   "source": [
    "*After you ran the previous code (adding triples) the next cells will be executed on your extended graph. That is ok.*"
   ]
  },
  {
   "cell_type": "markdown",
   "metadata": {},
   "source": [
    "### - Task 2a: (1 Point) Get structured information from an RDF graph (all Literals)"
   ]
  },
  {
   "cell_type": "markdown",
   "metadata": {},
   "source": [
    "Use the functions available in the RDFLib library. Write a small function to print all Literals. \n",
    "\n",
    "Hint: there is a function in rdflib to test the type of an object (check previous examples in this notebook)"
   ]
  },
  {
   "cell_type": "code",
   "execution_count": 6,
   "metadata": {},
   "outputs": [
    {
     "name": "stdout",
     "output_type": "stream",
     "text": [
      "The Netherlands\n",
      "Czechia\n",
      "Denmark\n",
      "Poland\n"
     ]
    }
   ],
   "source": [
    "for s,p,o in g:\n",
    "    # Your code here\n",
    "    if type(o) is Literal:\n",
    "        print(o)\n"
   ]
  },
  {
   "cell_type": "markdown",
   "metadata": {},
   "source": [
    "### - Task 2b: (1 Point) Get structured information from an RDF graph (all unique Predicates)"
   ]
  },
  {
   "cell_type": "markdown",
   "metadata": {},
   "source": [
    "Please provide another function that gives a **unique** list of the predicates, ordered by occurrence (most occurring first). The answer will look like similar to this: \n",
    "<br>http://www.w3.org/2000/01/rdf-schema#label\n",
    "<br>http://www.w3.org/1999/02/22-rdf-syntax-ns#type\n",
    "<br>http://example.com/sw2016/locatedIn\n",
    "<br>http://www.w3.org/2000/01/rdf-schema#range"
   ]
  },
  {
   "cell_type": "code",
   "execution_count": 7,
   "metadata": {},
   "outputs": [
    {
     "name": "stdout",
     "output_type": "stream",
     "text": [
      "http://www.w3.org/2000/01/rdf-schema#subPropertyOf\n",
      "http://www.w3.org/2000/01/rdf-schema#subClassOf\n",
      "http://www.w3.org/2000/01/rdf-schema#range\n",
      "http://www.w3.org/2000/01/rdf-schema#domain\n",
      "http://www.w3.org/1999/02/22-rdf-syntax-ns#type\n",
      "http://www.w3.org/1999/02/22-rdf-syntax-ns#hasName\n",
      "http://example.com/kad/neighbours\n",
      "http://example.com/kad/hasName\n",
      "http://example.com/kad/hasCapital\n"
     ]
    }
   ],
   "source": [
    "li = []\n",
    "for s,p,o in g:\n",
    "    # Your code here\n",
    "    li.append(p)\n",
    "li.sort(reverse=True)\n",
    "check = \"c\"\n",
    "for item in li:\n",
    "    if item == check:\n",
    "        pass\n",
    "    else:\n",
    "        print(item)\n",
    "    check = item"
   ]
  },
  {
   "cell_type": "markdown",
   "metadata": {},
   "source": [
    "# B. Tasks related to Graph visualisations "
   ]
  },
  {
   "cell_type": "markdown",
   "metadata": {},
   "source": [
    "### - Task 3a: (2 Point) From RDF to .dot \n"
   ]
  },
  {
   "cell_type": "markdown",
   "metadata": {},
   "source": [
    "In the lecture, we have seen two ways of writing a knowledge graph (simple n-triples, and simple turtle). Let us consider a 3rd syntax, this time a syntax that is useful for visualisation. One standard for visualising graphs is the .dot format.\n",
    "\n",
    "Print the knowledge graph in .dot file format. Check https://graphviz.gitlab.io/documentation/ and https://graphviz.readthedocs.io/en/stable/ for the documentation. You will only need very little of this information, and the most relevant information can be found in the examples that are given. \n",
    "\n",
    "<br>Basically, an RDF graph in .dot format starts with \n",
    "<br>digraph G { \n",
    "    and then a list of links of the following form \n",
    "<br>s -> o [label=\"p\"]\n",
    "    for every (s p o ) in KG (separated by ;\n",
    "<br>Do not forget to end with a closing bracket. }\n",
    "\n",
    "An example is \n",
    "     \n",
    "     digraph G { s1 -> o1 [label=\"p1\"] ; s2 -> o2 [label=\"p2\"] } \n",
    "     \n",
    "for an RDF graph {(s1 p1 o1),(s2 p2 o2)}"
   ]
  },
  {
   "cell_type": "code",
   "execution_count": 8,
   "metadata": {},
   "outputs": [
    {
     "name": "stdout",
     "output_type": "stream",
     "text": [
      "Collecting graphviz\n",
      "  Downloading graphviz-0.20.1-py3-none-any.whl (47 kB)\n",
      "Installing collected packages: graphviz\n",
      "Successfully installed graphviz-0.20.1\n",
      "Note: you may need to restart the kernel to use updated packages.\n"
     ]
    },
    {
     "name": "stderr",
     "output_type": "stream",
     "text": [
      "WARNING: Ignoring invalid distribution -ip (c:\\python310\\lib\\site-packages)\n",
      "WARNING: Ignoring invalid distribution -ip (c:\\python310\\lib\\site-packages)\n",
      "WARNING: Ignoring invalid distribution -ip (c:\\python310\\lib\\site-packages)\n",
      "WARNING: Ignoring invalid distribution -ip (c:\\python310\\lib\\site-packages)\n",
      "WARNING: Ignoring invalid distribution -ip (c:\\python310\\lib\\site-packages)\n",
      "WARNING: Ignoring invalid distribution -ip (c:\\python310\\lib\\site-packages)\n",
      "WARNING: Ignoring invalid distribution -ip (c:\\python310\\lib\\site-packages)\n",
      "WARNING: You are using pip version 21.2.4; however, version 22.2.2 is available.\n",
      "You should consider upgrading via the 'c:\\Python310\\python.exe -m pip install --upgrade pip' command.\n"
     ]
    }
   ],
   "source": [
    "# install and import the graphviz library\n",
    "%pip install graphviz\n",
    "import graphviz"
   ]
  },
  {
   "cell_type": "markdown",
   "metadata": {},
   "source": [
    "First, create an auxiliary function which strips the namespaces from URIs. This is necessary to make the node names readable when visualizing the .dot graph. Make sure that literals are enclosed by quotation marks. Hint: use `'\\\"...\\\"'` or `\\\"\\\\\\\"...\\\\\\\"\\\"` to insert quotation marks in Python strings."
   ]
  },
  {
   "cell_type": "code",
   "execution_count": 70,
   "metadata": {},
   "outputs": [],
   "source": [
    "def strip(e):\n",
    "    # 'http://www.example.org/pizza' should become 'pizza'\n",
    "    if \"/\" in e:\n",
    "        e = e.split(\"/\")\n",
    "    else:\n",
    "        return f'\"{e}\"'\n",
    "    if \"#\" in e[-1]:\n",
    "        e = e[-1].split(\"#\")\n",
    "    return e[-1]"
   ]
  },
  {
   "cell_type": "markdown",
   "metadata": {},
   "source": [
    "Next, convert your graph to the .dot format."
   ]
  },
  {
   "cell_type": "code",
   "execution_count": 90,
   "metadata": {},
   "outputs": [],
   "source": [
    "dot = graphviz.Digraph(strict=True, graph_attr={\"dpi\":\"50\"})  # adjust dpi to scale graph\n",
    "# digraph G { s1 -> o1 [label=\"p1\"] ; s2 -> o2 [label=\"p2\"] }\n",
    "for s,p,o in g:\n",
    "    sub = strip(s)\n",
    "    pred = strip(p)\n",
    "    obj = strip(o)\n",
    "    #dot.node(sub)\n",
    "    #dot.node(obj)\n",
    "    dot.edge(sub, obj, label=pred)"
   ]
  },
  {
   "cell_type": "markdown",
   "metadata": {},
   "source": [
    "View the end result as .dot syntax and as a graph:"
   ]
  },
  {
   "cell_type": "code",
   "execution_count": 93,
   "metadata": {},
   "outputs": [
    {
     "name": "stdout",
     "output_type": "stream",
     "text": [
      "strict digraph {\n",
      "\tgraph [dpi=50]\n",
      "\tcontainsCity -> Country [label=domain]\n",
      "\thasCapital -> Capital [label=range]\n",
      "\tCzechia -> Country [label=type]\n",
      "\tNetherlands -> \"\\\"The Netherlands\\\"\" [label=hasName]\n",
      "\tPoland -> Germany [label=neighbours]\n",
      "\tCzechia -> Prague [label=hasCapital]\n",
      "\tEuropeanCountry -> Country [label=subClassOf]\n",
      "\tcontainsCity -> City [label=range]\n",
      "\tCapital -> City [label=subClassOf]\n",
      "\tAmsterdam -> Capital [label=type]\n",
      "\tDenmark -> Copenhagen [label=hasCapital]\n",
      "\tNetherlands -> Country [label=type]\n",
      "\tPoland -> Country [label=type]\n",
      "\tCzechia -> \"\\\"Czechia\\\"\" [label=hasName]\n",
      "\tNetherlands -> Belgium [label=neighbours]\n",
      "\tGermany -> EuropeanCountry [label=type]\n",
      "\tDenmark -> Germany [label=neighbours]\n",
      "\tNetherlands -> Amsterdam [label=hasCapital]\n",
      "\tBelgium -> Country [label=type]\n",
      "\tPoland -> Warsaw [label=hasCapital]\n",
      "\tDenmark -> \"\\\"Denmark\\\"\" [label=hasName]\n",
      "\thasCapital -> containsCity [label=subPropertyOf]\n",
      "\tDenmark -> Country [label=type]\n",
      "\tPoland -> \"\\\"Poland\\\"\" [label=hasName]\n",
      "}\n",
      "\n"
     ]
    },
    {
     "data": {
      "text/plain": [
       "<bound method Render.view of <graphviz.graphs.Digraph object at 0x000001A6B2A53190>>"
      ]
     },
     "execution_count": 93,
     "metadata": {},
     "output_type": "execute_result"
    }
   ],
   "source": [
    "print(dot.source)\n",
    "dot.view #dot.view does not work, but http://www.webgraphviz.com/ does work!!"
   ]
  },
  {
   "cell_type": "markdown",
   "metadata": {},
   "source": [
    "### - Task 3b: (1 Point) From RDF to .dot with \"semantic information\""
   ]
  },
  {
   "cell_type": "markdown",
   "metadata": {},
   "source": [
    "There is a conceptual distinction between properties, instances and classes (sets of instances). A simple way of checking is the following\n",
    "\n",
    "1. in a triple (s a o), with predicate a (which is a special abbreviation for the predicate rdf:type), the s is an Instance, and o is a Class. \n",
    "2. in a triple (s rdfs:subClassOf o) both s and o are Classes. \n",
    "3. in a triple (p rdfs:domain o) p is a Property and o is a Class. \n",
    "4. in a triple (p rdfs:range o)  p is a Property and o is a Class. \n",
    "\n",
    "Update the .dot representation for your RDF graph that distinguishes between types of links (RDF vocabulary vs others) and types of nodes (Classes versus Entities versus Literals) via different colors. Hint: you can use the 'color' attribute in the ```node``` and ```edge``` function.\n",
    "\n",
    "Check how your graph looks once finished."
   ]
  },
  {
   "cell_type": "code",
   "execution_count": 99,
   "metadata": {},
   "outputs": [
    {
     "name": "stdout",
     "output_type": "stream",
     "text": [
      "strict digraph {\n",
      "\tgraph [dpi=50]\n",
      "\tcontainsCity [color=purple]\n",
      "\tCountry [color=cyan]\n",
      "\tcontainsCity -> Country [label=domain color=green]\n",
      "\tcontainsCity\n",
      "\tCountry\n",
      "\tcontainsCity -> Country [label=domain]\n",
      "\thasCapital [color=purple]\n",
      "\tCapital [color=cyan]\n",
      "\thasCapital -> Capital [label=range color=yellow]\n",
      "\tCzechia [color=orange]\n",
      "\tCountry [color=cyan]\n",
      "\tCzechia -> Country [label=type color=red]\n",
      "\tCzechia\n",
      "\tCountry\n",
      "\tCzechia -> Country [label=type]\n",
      "\tNetherlands\n",
      "\t\"\\\"The Netherlands\\\"\"\n",
      "\tNetherlands -> \"\\\"The Netherlands\\\"\" [label=hasName]\n",
      "\tPoland\n",
      "\tGermany\n",
      "\tPoland -> Germany [label=neighbours]\n",
      "\tCzechia\n",
      "\tPrague\n",
      "\tCzechia -> Prague [label=hasCapital]\n",
      "\tEuropeanCountry [color=cyan]\n",
      "\tCountry [color=cyan]\n",
      "\tEuropeanCountry -> Country [label=subClassOf color=blue]\n",
      "\tEuropeanCountry\n",
      "\tCountry\n",
      "\tEuropeanCountry -> Country [label=subClassOf]\n",
      "\tcontainsCity [color=purple]\n",
      "\tCity [color=cyan]\n",
      "\tcontainsCity -> City [label=range color=yellow]\n",
      "\tCapital [color=cyan]\n",
      "\tCity [color=cyan]\n",
      "\tCapital -> City [label=subClassOf color=blue]\n",
      "\tCapital\n",
      "\tCity\n",
      "\tCapital -> City [label=subClassOf]\n",
      "\tAmsterdam [color=orange]\n",
      "\tCapital [color=cyan]\n",
      "\tAmsterdam -> Capital [label=type color=red]\n",
      "\tAmsterdam\n",
      "\tCapital\n",
      "\tAmsterdam -> Capital [label=type]\n",
      "\tDenmark\n",
      "\tCopenhagen\n",
      "\tDenmark -> Copenhagen [label=hasCapital]\n",
      "\tNetherlands [color=orange]\n",
      "\tCountry [color=cyan]\n",
      "\tNetherlands -> Country [label=type color=red]\n",
      "\tNetherlands\n",
      "\tCountry\n",
      "\tNetherlands -> Country [label=type]\n",
      "\tPoland [color=orange]\n",
      "\tCountry [color=cyan]\n",
      "\tPoland -> Country [label=type color=red]\n",
      "\tPoland\n",
      "\tCountry\n",
      "\tPoland -> Country [label=type]\n",
      "\tCzechia\n",
      "\t\"\\\"Czechia\\\"\"\n",
      "\tCzechia -> \"\\\"Czechia\\\"\" [label=hasName]\n",
      "\tNetherlands\n",
      "\tBelgium\n",
      "\tNetherlands -> Belgium [label=neighbours]\n",
      "\tGermany [color=orange]\n",
      "\tEuropeanCountry [color=cyan]\n",
      "\tGermany -> EuropeanCountry [label=type color=red]\n",
      "\tGermany\n",
      "\tEuropeanCountry\n",
      "\tGermany -> EuropeanCountry [label=type]\n",
      "\tDenmark\n",
      "\tGermany\n",
      "\tDenmark -> Germany [label=neighbours]\n",
      "\tNetherlands\n",
      "\tAmsterdam\n",
      "\tNetherlands -> Amsterdam [label=hasCapital]\n",
      "\tBelgium [color=orange]\n",
      "\tCountry [color=cyan]\n",
      "\tBelgium -> Country [label=type color=red]\n",
      "\tBelgium\n",
      "\tCountry\n",
      "\tBelgium -> Country [label=type]\n",
      "\tPoland\n",
      "\tWarsaw\n",
      "\tPoland -> Warsaw [label=hasCapital]\n",
      "\tDenmark\n",
      "\t\"\\\"Denmark\\\"\"\n",
      "\tDenmark -> \"\\\"Denmark\\\"\" [label=hasName]\n",
      "\thasCapital\n",
      "\tcontainsCity\n",
      "\thasCapital -> containsCity [label=subPropertyOf]\n",
      "\tDenmark [color=orange]\n",
      "\tCountry [color=cyan]\n",
      "\tDenmark -> Country [label=type color=red]\n",
      "\tDenmark\n",
      "\tCountry\n",
      "\tDenmark -> Country [label=type]\n",
      "\tPoland\n",
      "\t\"\\\"Poland\\\"\"\n",
      "\tPoland -> \"\\\"Poland\\\"\" [label=hasName]\n",
      "}\n",
      "\n"
     ]
    }
   ],
   "source": [
    "dot = graphviz.Digraph(strict=True, graph_attr={\"dpi\":\"50\"})  # adjust dpi to scale graph\n",
    "# digraph G { s1 -> o1 [label=\"p1\"] ; s2 -> o2 [label=\"p2\"] }\n",
    "for s,p,o in g:\n",
    "    sub = strip(s)\n",
    "    pred = strip(p)\n",
    "    obj = strip(o)\n",
    "    if pred == 'type':\n",
    "        # s in an instance, o is a class\n",
    "        dot.node(sub, color = 'orange')\n",
    "        dot.node(obj, color = 'cyan')\n",
    "        dot.edge(sub, obj, label=pred, color='red')\n",
    "    if pred == 'subClassOf':\n",
    "        # s and o are classes\n",
    "        dot.node(sub, color = 'cyan')\n",
    "        dot.node(obj, color = 'cyan')\n",
    "        dot.edge(sub, obj, label=pred, color='blue')\n",
    "    if pred == 'domain':\n",
    "        # p is property and o is a class\n",
    "        dot.node(sub, color = 'purple')\n",
    "        dot.node(obj, color = 'cyan')\n",
    "        dot.edge(sub, obj, label=pred, color='green')\n",
    "    if pred == 'range':\n",
    "        # p is a property and o is a class\n",
    "        dot.node(sub, color = 'purple')\n",
    "        dot.node(obj, color = 'cyan')\n",
    "        dot.edge(sub, obj, label=pred, color='yellow')\n",
    "    else:\n",
    "        dot.node(sub)\n",
    "        dot.node(obj)\n",
    "        dot.edge(sub, obj, label=pred)\n",
    "print(dot.source)"
   ]
  },
  {
   "cell_type": "markdown",
   "metadata": {},
   "source": [
    "### - Task 4: (1 Point) Deriving implicit knowledge (a bit of schema)\n",
    "\n",
    "We will look into Schema information in the latter modules, but let us try already to find some implicit information in a first bit of inferencing: whenever there are two statements (s a o) and (o rdfs:subClassOf o2) we can derive (and later prove) that (s a o2). \n",
    "\n",
    "Write a procedure that adds all implied triples to our knowledge graph. "
   ]
  },
  {
   "cell_type": "code",
   "execution_count": 112,
   "metadata": {},
   "outputs": [
    {
     "name": "stdout",
     "output_type": "stream",
     "text": [
      "Amsterdam,type,Capital\n",
      "Capital,subClassOf,City\n",
      "Germany,type,EuropeanCountry\n",
      "EuropeanCountry,subClassOf,Country\n"
     ]
    }
   ],
   "source": [
    "# Your code here\n",
    "for s,p,o in g:\n",
    "    if strip(p) == \"type\":\n",
    "        #print(f\"{strip(s)},{strip(p)},{strip(o)}\")\n",
    "        for s2,p2,o2 in g:\n",
    "            #print(f\"{strip(s2)},{strip(p2)},{strip(o2)}\")\n",
    "            if o == s2:\n",
    "                if strip(p2) == \"subClassOf\":\n",
    "                    g.add((s, p, o2))\n",
    "                    #print(f\"{strip(s)},{strip(p)},{strip(o)}\")\n",
    "                    #print(f\"{strip(s2)},{strip(p2)},{strip(o2)}\")\n"
   ]
  },
  {
   "cell_type": "code",
   "execution_count": 113,
   "metadata": {},
   "outputs": [
    {
     "name": "stdout",
     "output_type": "stream",
     "text": [
      "@prefix ex1: <http://example.com/kad/> .\n",
      "@prefix rdf: <http://www.w3.org/1999/02/22-rdf-syntax-ns#> .\n",
      "@prefix rdfs: <http://www.w3.org/2000/01/rdf-schema#> .\n",
      "\n",
      "ex1:Czechia a ex1:Country ;\n",
      "    ex1:hasCapital ex1:Prague ;\n",
      "    rdf:hasName \"Czechia\" .\n",
      "\n",
      "ex1:Denmark a ex1:Country ;\n",
      "    ex1:hasCapital ex1:Copenhagen ;\n",
      "    ex1:hasName \"Denmark\" ;\n",
      "    ex1:neighbours ex1:Germany .\n",
      "\n",
      "ex1:Netherlands a ex1:Country ;\n",
      "    ex1:hasCapital ex1:Amsterdam ;\n",
      "    ex1:hasName \"The Netherlands\" ;\n",
      "    ex1:neighbours ex1:Belgium .\n",
      "\n",
      "ex1:Poland a ex1:Country ;\n",
      "    ex1:hasCapital ex1:Warsaw ;\n",
      "    ex1:neighbours ex1:Germany ;\n",
      "    rdf:hasName \"Poland\" .\n",
      "\n",
      "ex1:hasCapital rdfs:range ex1:Capital ;\n",
      "    rdfs:subPropertyOf ex1:containsCity .\n",
      "\n",
      "ex1:Amsterdam a ex1:Capital,\n",
      "        ex1:City .\n",
      "\n",
      "ex1:Belgium a ex1:Country .\n",
      "\n",
      "ex1:EuropeanCountry rdfs:subClassOf ex1:Country .\n",
      "\n",
      "ex1:containsCity rdfs:domain ex1:Country ;\n",
      "    rdfs:range ex1:City .\n",
      "\n",
      "ex1:Capital rdfs:subClassOf ex1:City .\n",
      "\n",
      "ex1:Germany a ex1:Country,\n",
      "        ex1:EuropeanCountry .\n",
      "\n",
      "\n"
     ]
    }
   ],
   "source": [
    "serialize_graph()"
   ]
  },
  {
   "cell_type": "markdown",
   "metadata": {},
   "source": [
    "# C. Tasks related to local copies of external RDF Datasets using SPARQL"
   ]
  },
  {
   "cell_type": "markdown",
   "metadata": {},
   "source": [
    "Until now, we have manipulated local knowledge graphs, but as we claimed in the lectures, the advantage of knowledge graphs is that they can easily be linked with other datasets on the Web. \n",
    "\n",
    "In the remaining 3 tasks, we will manipulate data from the Web, and ask complex queries over this web data. \n",
    "\n",
    "In the first task, we will access web data, make a local copy of it, and then query it. In the other two tasks, we will query live data directly from web Knowledge Graphs (in this case, the SPARQL endpoint of DBPedia). "
   ]
  },
  {
   "cell_type": "markdown",
   "metadata": {},
   "source": [
    "### - Task 5: (1 Point) Show and manipulate data about RDF resources on the Web "
   ]
  },
  {
   "cell_type": "markdown",
   "metadata": {},
   "source": [
    "With rdflib we can easily load a local graph, but we can just as well retrieve a graph from the Web. Here, we will do so using the *requests* library, which allows us to fire a request to any server and/or SPARQL endpoint and to capture the response. The following snippet does so for the resource Netherlands from Dbpedia, by using the 'DESCRIBE' keyword to give us all triples about The Netherlands, and then loads it in a RDFlib Graph object. Note that, in the next assignment, we will learn a more high-level approach that hides most of the raw request details."
   ]
  },
  {
   "cell_type": "code",
   "execution_count": 114,
   "metadata": {},
   "outputs": [
    {
     "name": "stdout",
     "output_type": "stream",
     "text": [
      "Requirement already satisfied: requests in c:\\python310\\lib\\site-packages (2.27.1)\n",
      "Requirement already satisfied: certifi>=2017.4.17 in c:\\python310\\lib\\site-packages (from requests) (2022.5.18.1)\n",
      "Requirement already satisfied: charset-normalizer~=2.0.0 in c:\\python310\\lib\\site-packages (from requests) (2.0.12)\n",
      "Requirement already satisfied: urllib3<1.27,>=1.21.1 in c:\\python310\\lib\\site-packages (from requests) (1.26.9)\n",
      "Requirement already satisfied: idna<4,>=2.5 in c:\\python310\\lib\\site-packages (from requests) (3.3)\n",
      "Note: you may need to restart the kernel to use updated packages.\n"
     ]
    },
    {
     "name": "stderr",
     "output_type": "stream",
     "text": [
      "WARNING: Ignoring invalid distribution -ip (c:\\python310\\lib\\site-packages)\n",
      "WARNING: Ignoring invalid distribution -ip (c:\\python310\\lib\\site-packages)\n",
      "WARNING: Ignoring invalid distribution -ip (c:\\python310\\lib\\site-packages)\n",
      "WARNING: Ignoring invalid distribution -ip (c:\\python310\\lib\\site-packages)\n",
      "WARNING: Ignoring invalid distribution -ip (c:\\python310\\lib\\site-packages)\n",
      "WARNING: Ignoring invalid distribution -ip (c:\\python310\\lib\\site-packages)\n",
      "WARNING: You are using pip version 21.2.4; however, version 22.2.2 is available.\n",
      "You should consider upgrading via the 'c:\\Python310\\python.exe -m pip install --upgrade pip' command.\n"
     ]
    }
   ],
   "source": [
    "# install the library\n",
    "%pip install requests"
   ]
  },
  {
   "cell_type": "code",
   "execution_count": 115,
   "metadata": {},
   "outputs": [
    {
     "data": {
      "text/plain": [
       "<Graph identifier=N00e15d13adcf4e44bf1c08397ca41b68 (<class 'rdflib.graph.Graph'>)>"
      ]
     },
     "execution_count": 115,
     "metadata": {},
     "output_type": "execute_result"
    }
   ],
   "source": [
    "import requests\n",
    "\n",
    "endpoint = \"https://dbpedia.org/sparql\"\n",
    "query = 'DESCRIBE <http://dbpedia.org/resource/Netherlands>'\n",
    "\n",
    "payload = {'query':query, 'format':'text/turtle'}\n",
    "response = requests.post(endpoint, data = payload)\n",
    "\n",
    "g = Graph()\n",
    "g.parse(data=response.text, format='ttl')"
   ]
  },
  {
   "cell_type": "markdown",
   "metadata": {},
   "source": [
    "Now do the same for Belgium"
   ]
  },
  {
   "cell_type": "code",
   "execution_count": 117,
   "metadata": {},
   "outputs": [
    {
     "data": {
      "text/plain": [
       "<Graph identifier=N00e15d13adcf4e44bf1c08397ca41b68 (<class 'rdflib.graph.Graph'>)>"
      ]
     },
     "execution_count": 117,
     "metadata": {},
     "output_type": "execute_result"
    }
   ],
   "source": [
    "query = 'DESCRIBE <http://dbpedia.org/resource/Belgium>'\n",
    "\n",
    "payload = {'query':query, 'format':'text/turtle'}\n",
    "response = requests.post(endpoint, data = payload)\n",
    "\n",
    "g.parse(data=response.text, format='ttl')  # calling parse again merges the graphs"
   ]
  },
  {
   "cell_type": "markdown",
   "metadata": {},
   "source": [
    "Let us start by showing diverse bits of information w.r.t  The Netherlands and Belgium in DBPedia. It is very similar to task 1, but now with Web Data. \n",
    "\n",
    "First, query the graph g (now containing the DBPedia information about both countries) and check which motor ways cross both countries."
   ]
  },
  {
   "cell_type": "code",
   "execution_count": 118,
   "metadata": {},
   "outputs": [
    {
     "name": "stdout",
     "output_type": "stream",
     "text": [
      "http://dbpedia.org/resource/European_route_E19\n",
      "http://dbpedia.org/resource/European_route_E25\n",
      "http://dbpedia.org/resource/European_route_E314\n",
      "http://dbpedia.org/resource/European_route_E34\n",
      "http://dbpedia.org/resource/North_Sea–Baltic_Corridor\n"
     ]
    }
   ],
   "source": [
    "qres = g.query(\n",
    "   \"\"\"\n",
    "    PREFIX dbr: <http://dbpedia.org/resource/>\n",
    "    PREFIX dbo: <http://dbpedia.org/ontology/>\n",
    "    SELECT ?s\n",
    "        WHERE {\n",
    "            ?s dbo:county dbr:Netherlands .\n",
    "            ?s dbo:county dbr:Belgium .\n",
    "        }\n",
    "        LIMIT 10\n",
    "       \"\"\")\n",
    "for row in qres:\n",
    "    print(\"%s\" % row)"
   ]
  },
  {
   "cell_type": "markdown",
   "metadata": {},
   "source": [
    "Write a query to check whether you can find someone who was born in The Netherlands and died in Belgium? You need to look at the data to know which property you should check for. \n",
    "\n",
    "To get an intuition of what is in the knowledge graph you might want to look at the human readable rendering on : http://dbpedia.org/resource/Netherlands"
   ]
  },
  {
   "cell_type": "code",
   "execution_count": 121,
   "metadata": {
    "scrolled": true
   },
   "outputs": [
    {
     "name": "stdout",
     "output_type": "stream",
     "text": [
      "http://dbpedia.org/resource/Will_Hoebee\n",
      "http://dbpedia.org/resource/Willem_Le_Jeune\n",
      "http://dbpedia.org/resource/Salomon_Zeldenrust\n",
      "http://dbpedia.org/resource/Cornelius_van_Zierikzee\n",
      "http://dbpedia.org/resource/Dick_Nanninga\n",
      "http://dbpedia.org/resource/Han_Grijzenhout\n",
      "http://dbpedia.org/resource/Hein_Verbruggen\n",
      "http://dbpedia.org/resource/Henri_Alexis_Brialmont\n",
      "http://dbpedia.org/resource/Henriëtte_Ronner-Knip\n",
      "http://dbpedia.org/resource/Gerard_Reve\n"
     ]
    }
   ],
   "source": [
    "# Your code here\n",
    "qres = g.query(\n",
    "   \"\"\"\n",
    "    PREFIX dbr: <http://dbpedia.org/resource/>\n",
    "    PREFIX dbo: <http://dbpedia.org/ontology/>\n",
    "    SELECT ?name\n",
    "        WHERE {\n",
    "            ?name dbo:birthPlace dbr:Netherlands .\n",
    "            ?name dbo:deathPlace dbr:Belgium .\n",
    "        }\n",
    "        LIMIT 10\n",
    "       \"\"\")\n",
    "for row in qres:\n",
    "    print(\"%s\" % row)"
   ]
  },
  {
   "cell_type": "markdown",
   "metadata": {},
   "source": [
    "### - Task 6: (2 Points) Ask SPARQL against live data using Yasgui\n",
    "\n",
    "Yasgui (https://yasgui.triply.cc) is a nice graphical interface for asking queries.\n",
    "\n",
    "Run a new query against http://dbpedia.org/sparql that does the following:\n",
    "\n",
    "- Find all languages spoken in countries that are not official languages of that country\n",
    "- The query should return two colums: the country, and the number of languages.\n",
    "- Order the countries by the number of unofficial languages, from high to low."
   ]
  },
  {
   "cell_type": "code",
   "execution_count": null,
   "metadata": {},
   "outputs": [],
   "source": [
    "'''\n",
    "PREFIX dbo: <http://dbpedia.org/ontology/>\n",
    "PREFIX dbr: <http://dbpedia.org/resource/>\n",
    "PREFIX dbp: <http://dbpedia.org/property/>\n",
    "PREFIX rdf: <http://www.w3.org/1999/02/22-rdf-syntax-ns#>\n",
    "SELECT DISTINCT ?Country (COUNT(DISTINCT?Languages) AS ?nrOfLanguages)\n",
    "WHERE {\n",
    " ?Country rdf:type dbo:Country . \n",
    " ?Country dbo:language ?Languages . \n",
    " ?Country dbo:countryCode ?countryCode .\n",
    " ?Country dbo:officialLanguage ?officalLanguage .\n",
    "\tFILTER NOT EXISTS {\n",
    "    \t?officalLanguage dbp:name ?name .\n",
    "    \t?Languages dbp:name ?name .\n",
    "\t}\n",
    "} GROUP BY ?Country\n",
    "ORDER BY DESC (?nrOfLanguages)\n",
    "'''\n"
   ]
  }
 ],
 "metadata": {
  "kernelspec": {
   "display_name": "Python 3.10.2 64-bit",
   "language": "python",
   "name": "python3"
  },
  "language_info": {
   "codemirror_mode": {
    "name": "ipython",
    "version": 3
   },
   "file_extension": ".py",
   "mimetype": "text/x-python",
   "name": "python",
   "nbconvert_exporter": "python",
   "pygments_lexer": "ipython3",
   "version": "3.10.2"
  },
  "vscode": {
   "interpreter": {
    "hash": "369f2c481f4da34e4445cda3fffd2e751bd1c4d706f27375911949ba6bb62e1c"
   }
  }
 },
 "nbformat": 4,
 "nbformat_minor": 4
}
