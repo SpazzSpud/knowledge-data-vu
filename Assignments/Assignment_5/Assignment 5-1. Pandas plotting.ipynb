{
 "cells": [
  {
   "cell_type": "code",
   "execution_count": 1,
   "id": "bef4e7de",
   "metadata": {},
   "outputs": [],
   "source": [
    "%pip install ipython-sparql-pandas\n",
    "# run `sparql?` in a cell for documentation\n",
    "%load_ext ipython_sparql_pandas"
   ]
  },
  {
   "cell_type": "markdown",
   "id": "3edb89af",
   "metadata": {},
   "source": [
    "First, make sure that `vuDataset.ttl` is loaded in GraphDb as the `repo-vu` repository."
   ]
  },
  {
   "cell_type": "code",
   "execution_count": 2,
   "id": "c461cdc8",
   "metadata": {},
   "outputs": [
    {
     "data": {
      "text/html": [
       "<div>\n",
       "<style scoped>\n",
       "    .dataframe tbody tr th:only-of-type {\n",
       "        vertical-align: middle;\n",
       "    }\n",
       "\n",
       "    .dataframe tbody tr th {\n",
       "        vertical-align: top;\n",
       "    }\n",
       "\n",
       "    .dataframe thead th {\n",
       "        text-align: right;\n",
       "    }\n",
       "</style>\n",
       "<table border=\"1\" class=\"dataframe\">\n",
       "  <thead>\n",
       "    <tr style=\"text-align: right;\">\n",
       "      <th></th>\n",
       "      <th>teacher</th>\n",
       "      <th>courses</th>\n",
       "    </tr>\n",
       "  </thead>\n",
       "  <tbody>\n",
       "    <tr>\n",
       "      <th>0</th>\n",
       "      <td>http://example.org/vu/stefan</td>\n",
       "      <td>5</td>\n",
       "    </tr>\n",
       "    <tr>\n",
       "      <th>1</th>\n",
       "      <td>http://example.org/vu/frank</td>\n",
       "      <td>3</td>\n",
       "    </tr>\n",
       "    <tr>\n",
       "      <th>2</th>\n",
       "      <td>http://example.org/vu/joe</td>\n",
       "      <td>1</td>\n",
       "    </tr>\n",
       "  </tbody>\n",
       "</table>\n",
       "</div>"
      ],
      "text/plain": [
       "                        teacher  courses\n",
       "0  http://example.org/vu/stefan        5\n",
       "1   http://example.org/vu/frank        3\n",
       "2     http://example.org/vu/joe        1"
      ]
     },
     "execution_count": 2,
     "metadata": {},
     "output_type": "execute_result"
    }
   ],
   "source": [
    "%%sparql http://localhost:7200/repositories/repo-vu -s courseload\n",
    "PREFIX vu: <http://example.org/vu/>\n",
    "\n",
    "SELECT ?teacher (COUNT(*) as ?courses) {\n",
    "    ?teacher vu:teaches ?o .\n",
    "} GROUP BY ?teacher"
   ]
  },
  {
   "cell_type": "code",
   "execution_count": 3,
   "id": "b8df8e17",
   "metadata": {},
   "outputs": [
    {
     "data": {
      "text/plain": [
       "<AxesSubplot:ylabel='courses'>"
      ]
     },
     "execution_count": 3,
     "metadata": {},
     "output_type": "execute_result"
    },
    {
     "data": {
      "image/png": "[encoded data removed]",
      "text/plain": [
       "<Figure size 432x288 with 1 Axes>"
      ]
     },
     "metadata": {},
     "output_type": "display_data"
    }
   ],
   "source": [
    "# Pandas visualization: https://pandas.pydata.org/docs/user_guide/visualization.html\n",
    "courseload.set_index('teacher', inplace=True)\n",
    "courseload['courses'].plot.pie()"
   ]
  },
  {
   "cell_type": "code",
   "execution_count": null,
   "id": "eea00adc",
   "metadata": {},
   "outputs": [],
   "source": [
    "### Assignment 5-1a: Make a horizontal bar chart from the `courseload` dataframe"
   ]
  },
  {
   "cell_type": "code",
   "execution_count": null,
   "id": "be08d903",
   "metadata": {},
   "outputs": [],
   "source": [
    "### Assignment 5-1b: Write a new SPARQL query for DBpedia \n",
    "###    and create an interesting chart from it"
   ]
  }
 ],
 "metadata": {
  "kernelspec": {
   "display_name": "Python 3 (ipykernel)",
   "language": "python",
   "name": "python3"
  },
  "language_info": {
   "codemirror_mode": {
    "name": "ipython",
    "version": 3
   },
   "file_extension": ".py",
   "mimetype": "text/x-python",
   "name": "python",
   "nbconvert_exporter": "python",
   "pygments_lexer": "ipython3",
   "version": "3.10.5"
  }
 },
 "nbformat": 4,
 "nbformat_minor": 5
}
